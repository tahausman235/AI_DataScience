{
 "cells": [
  {
   "cell_type": "code",
   "execution_count": null,
   "id": "78e94284",
   "metadata": {},
   "outputs": [],
   "source": [
    "# PART 1: "
   ]
  },
  {
   "cell_type": "code",
   "execution_count": 10,
   "id": "2ebc37a8",
   "metadata": {},
   "outputs": [],
   "source": [
    "import numpy as np"
   ]
  },
  {
   "cell_type": "code",
   "execution_count": 14,
   "id": "ae26674c",
   "metadata": {},
   "outputs": [
    {
     "name": "stdout",
     "output_type": "stream",
     "text": [
      "CPU times: total: 0 ns\n",
      "Wall time: 816 μs\n"
     ]
    }
   ],
   "source": [
    "%%time\n",
    "list1 = list(range(10000))"
   ]
  },
  {
   "cell_type": "code",
   "execution_count": 15,
   "id": "0873fac4",
   "metadata": {},
   "outputs": [
    {
     "name": "stdout",
     "output_type": "stream",
     "text": [
      "CPU times: total: 15.6 ms\n",
      "Wall time: 0 ns\n"
     ]
    }
   ],
   "source": [
    "%%time\n",
    "num1 = np.arange(10000)\n"
   ]
  },
  {
   "cell_type": "code",
   "execution_count": 16,
   "id": "2125129a",
   "metadata": {},
   "outputs": [
    {
     "name": "stdout",
     "output_type": "stream",
     "text": [
      "CPU times: total: 0 ns\n",
      "Wall time: 1e+03 μs\n"
     ]
    }
   ],
   "source": [
    "%%time\n",
    "mainList = list1 * 5"
   ]
  },
  {
   "cell_type": "code",
   "execution_count": 17,
   "id": "71df6ed4",
   "metadata": {},
   "outputs": [
    {
     "name": "stdout",
     "output_type": "stream",
     "text": [
      "CPU times: total: 0 ns\n",
      "Wall time: 0 ns\n"
     ]
    }
   ],
   "source": [
    "%%time\n",
    "mainNum = num1 * 5"
   ]
  },
  {
   "cell_type": "markdown",
   "id": "d385b495",
   "metadata": {},
   "source": [
    "NumPy is faster because it performs operations using optimized C code instead of slow Python loops.\n"
   ]
  }
 ],
 "metadata": {
  "kernelspec": {
   "display_name": "gpu_env",
   "language": "python",
   "name": "python3"
  },
  "language_info": {
   "codemirror_mode": {
    "name": "ipython",
    "version": 3
   },
   "file_extension": ".py",
   "mimetype": "text/x-python",
   "name": "python",
   "nbconvert_exporter": "python",
   "pygments_lexer": "ipython3",
   "version": "3.10.18"
  }
 },
 "nbformat": 4,
 "nbformat_minor": 5
}
