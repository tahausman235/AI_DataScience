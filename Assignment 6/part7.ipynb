{
 "cells": [
  {
   "cell_type": "code",
   "execution_count": 1,
   "id": "a5df8d9a",
   "metadata": {},
   "outputs": [],
   "source": [
    "import numpy as np"
   ]
  },
  {
   "cell_type": "code",
   "execution_count": null,
   "id": "c40731a2",
   "metadata": {},
   "outputs": [
    {
     "name": "stdout",
     "output_type": "stream",
     "text": [
      "[[ 1  2  3  4  5  6]\n",
      " [ 7  8  9 10 11 12]]\n"
     ]
    }
   ],
   "source": [
    "# Question 1\n",
    "arr = np.arange(1,13).reshape(3,4).reshape(2,6)\n",
    "print(arr)"
   ]
  },
  {
   "cell_type": "code",
   "execution_count": 4,
   "id": "2d646663",
   "metadata": {},
   "outputs": [],
   "source": [
    "# Question 2\n",
    "two = np.array([[1, 2, 3], \n",
    "                  [4, 5, 6]\n",
    "])\n"
   ]
  },
  {
   "cell_type": "code",
   "execution_count": 5,
   "id": "682f9e26",
   "metadata": {},
   "outputs": [
    {
     "name": "stdout",
     "output_type": "stream",
     "text": [
      "[1 2 3 4 5 6]\n"
     ]
    }
   ],
   "source": [
    "flat = two.flatten()\n",
    "print(flat)"
   ]
  },
  {
   "cell_type": "code",
   "execution_count": 6,
   "id": "d7935c6c",
   "metadata": {},
   "outputs": [
    {
     "name": "stdout",
     "output_type": "stream",
     "text": [
      "[1 2 3 4 5 6]\n"
     ]
    }
   ],
   "source": [
    "ravel = two.ravel()\n",
    "print(ravel)"
   ]
  },
  {
   "cell_type": "code",
   "execution_count": 7,
   "id": "f83e204d",
   "metadata": {},
   "outputs": [
    {
     "name": "stdout",
     "output_type": "stream",
     "text": [
      "[[1 2 3]\n",
      " [4 5 6]\n",
      " [7 8 9]]\n"
     ]
    }
   ],
   "source": [
    "# Question 3\n",
    "arr2 = np.arange(1, 10).reshape(3, 3)\n",
    "print(arr2)"
   ]
  },
  {
   "cell_type": "code",
   "execution_count": 8,
   "id": "cb2f1a1a",
   "metadata": {},
   "outputs": [
    {
     "name": "stdout",
     "output_type": "stream",
     "text": [
      "[1 2 3 4 5 6 7 8 9]\n"
     ]
    }
   ],
   "source": [
    "flat2 = arr2.flatten()\n",
    "print(flat2)"
   ]
  },
  {
   "cell_type": "code",
   "execution_count": 9,
   "id": "6719371c",
   "metadata": {},
   "outputs": [
    {
     "name": "stdout",
     "output_type": "stream",
     "text": [
      "[1 2 3 4 5 6 7 8 9]\n"
     ]
    }
   ],
   "source": [
    "ravel2 = arr2.ravel()\n",
    "print(ravel2)"
   ]
  },
  {
   "cell_type": "code",
   "execution_count": 10,
   "id": "1234c871",
   "metadata": {},
   "outputs": [
    {
     "name": "stdout",
     "output_type": "stream",
     "text": [
      "[999   2   3   4   5   6   7   8   9]\n"
     ]
    }
   ],
   "source": [
    "ravel2[0] = 999\n",
    "print(ravel2)"
   ]
  },
  {
   "cell_type": "code",
   "execution_count": null,
   "id": "4c92c9e9",
   "metadata": {},
   "outputs": [],
   "source": []
  }
 ],
 "metadata": {
  "kernelspec": {
   "display_name": "gpu_env",
   "language": "python",
   "name": "python3"
  },
  "language_info": {
   "codemirror_mode": {
    "name": "ipython",
    "version": 3
   },
   "file_extension": ".py",
   "mimetype": "text/x-python",
   "name": "python",
   "nbconvert_exporter": "python",
   "pygments_lexer": "ipython3",
   "version": "3.10.18"
  }
 },
 "nbformat": 4,
 "nbformat_minor": 5
}
