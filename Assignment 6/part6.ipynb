{
 "cells": [
  {
   "cell_type": "code",
   "execution_count": 1,
   "id": "cd74c98c",
   "metadata": {},
   "outputs": [],
   "source": [
    "import numpy as np"
   ]
  },
  {
   "cell_type": "markdown",
   "id": "998f3466",
   "metadata": {},
   "source": [
    "Question 1"
   ]
  },
  {
   "cell_type": "code",
   "execution_count": null,
   "id": "f07a0a3a",
   "metadata": {},
   "outputs": [],
   "source": [
    "#  i:\n",
    "A = np.array([[1, 2, 3],\n",
    "              [4, 5, 6],\n",
    "              [7, 8, 9]\n",
    "])"
   ]
  },
  {
   "cell_type": "code",
   "execution_count": 4,
   "id": "6d772573",
   "metadata": {},
   "outputs": [],
   "source": [
    "add = A + 10"
   ]
  },
  {
   "cell_type": "code",
   "execution_count": 5,
   "id": "dd5fba94",
   "metadata": {},
   "outputs": [
    {
     "name": "stdout",
     "output_type": "stream",
     "text": [
      "[[11 12 13]\n",
      " [14 15 16]\n",
      " [17 18 19]]\n",
      "(3, 3)\n"
     ]
    }
   ],
   "source": [
    "print(add)\n",
    "print(add.shape)"
   ]
  },
  {
   "cell_type": "code",
   "execution_count": 6,
   "id": "a9dbefd4",
   "metadata": {},
   "outputs": [],
   "source": [
    "# ii:\n",
    "row = np.array([1, 2, 3])\n",
    "add2 = A + row\n"
   ]
  },
  {
   "cell_type": "code",
   "execution_count": 8,
   "id": "b9613c49",
   "metadata": {},
   "outputs": [
    {
     "name": "stdout",
     "output_type": "stream",
     "text": [
      "[[ 2  4  6]\n",
      " [ 5  7  9]\n",
      " [ 8 10 12]]\n",
      "(3, 3)\n"
     ]
    }
   ],
   "source": [
    "print(add2)\n",
    "print(add2.shape)"
   ]
  },
  {
   "cell_type": "code",
   "execution_count": 10,
   "id": "7a31cee7",
   "metadata": {},
   "outputs": [],
   "source": [
    "# iii:\n",
    "col = np.array([[1],\n",
    "                [2],    \n",
    "                [3]\n",
    "])"
   ]
  },
  {
   "cell_type": "code",
   "execution_count": 11,
   "id": "e15bd9d8",
   "metadata": {},
   "outputs": [],
   "source": [
    "add3 = A + col"
   ]
  },
  {
   "cell_type": "code",
   "execution_count": 12,
   "id": "d45c84af",
   "metadata": {},
   "outputs": [
    {
     "name": "stdout",
     "output_type": "stream",
     "text": [
      "[[ 2  3  4]\n",
      " [ 6  7  8]\n",
      " [10 11 12]]\n",
      "(3, 3)\n"
     ]
    }
   ],
   "source": [
    "print(add3)\n",
    "print(add3.shape)"
   ]
  },
  {
   "cell_type": "code",
   "execution_count": null,
   "id": "d8ec67ce",
   "metadata": {},
   "outputs": [],
   "source": []
  }
 ],
 "metadata": {
  "kernelspec": {
   "display_name": "gpu_env",
   "language": "python",
   "name": "python3"
  },
  "language_info": {
   "codemirror_mode": {
    "name": "ipython",
    "version": 3
   },
   "file_extension": ".py",
   "mimetype": "text/x-python",
   "name": "python",
   "nbconvert_exporter": "python",
   "pygments_lexer": "ipython3",
   "version": "3.10.18"
  }
 },
 "nbformat": 4,
 "nbformat_minor": 5
}
