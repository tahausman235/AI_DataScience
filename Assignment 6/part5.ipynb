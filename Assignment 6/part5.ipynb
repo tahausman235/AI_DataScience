{
 "cells": [
  {
   "cell_type": "code",
   "execution_count": 4,
   "id": "f499ce38",
   "metadata": {},
   "outputs": [],
   "source": [
    "import numpy as np"
   ]
  },
  {
   "cell_type": "code",
   "execution_count": 6,
   "id": "7f80c389",
   "metadata": {},
   "outputs": [],
   "source": [
    "# Q1;\n",
    "A = np.random.randint(1, 10, 5)\n",
    "B = np.random.randint(1, 10, 5)"
   ]
  },
  {
   "cell_type": "code",
   "execution_count": 9,
   "id": "3704864c",
   "metadata": {},
   "outputs": [
    {
     "name": "stdout",
     "output_type": "stream",
     "text": [
      "A: [5 6 4 2 1]\n",
      "B: [7 6 5 1 7]\n",
      "Addition: [12 12  9  3  8]\n",
      "Subtraction: [-2  0 -1  1 -6]\n",
      "Multiplication: [35 36 20  2  7]\n",
      "Division: [0.71428571 1.         0.8        2.         0.14285714]\n"
     ]
    }
   ],
   "source": [
    "print(\"A:\", A)\n",
    "print(\"B:\", B)\n",
    "print(\"Addition:\", A + B)\n",
    "print(\"Subtraction:\", A - B)\n",
    "print(\"Multiplication:\", A * B)\n",
    "print(\"Division:\", A / B)"
   ]
  },
  {
   "cell_type": "code",
   "execution_count": 10,
   "id": "951cd1bb",
   "metadata": {},
   "outputs": [],
   "source": [
    "arr = np.array([1, 2, 3, 4, 5])"
   ]
  },
  {
   "cell_type": "code",
   "execution_count": null,
   "id": "b153abde",
   "metadata": {},
   "outputs": [
    {
     "name": "stdout",
     "output_type": "stream",
     "text": [
      "[1.         1.41421356 1.73205081 2.         2.23606798]\n",
      "[  2.71828183   7.3890561   20.08553692  54.59815003 148.4131591 ]\n",
      "[ 0.84147098  0.90929743  0.14112001 -0.7568025  -0.95892427]\n"
     ]
    }
   ],
   "source": [
    "print(np.sqrt(arr))  \n",
    "print(np.exp(arr)) \n",
    "print(np.sin(arr))"
   ]
  },
  {
   "cell_type": "code",
   "execution_count": 13,
   "id": "4a059421",
   "metadata": {},
   "outputs": [],
   "source": [
    "celsius = np.array([0, 10, 20, 30, 40, 50, 60, 70, 80, 90])\n",
    "fahrenheit = (celsius * 9/5) + 32"
   ]
  },
  {
   "cell_type": "code",
   "execution_count": 14,
   "id": "59d7005e",
   "metadata": {},
   "outputs": [
    {
     "name": "stdout",
     "output_type": "stream",
     "text": [
      "\n",
      "Celsius: [ 0 10 20 30 40 50 60 70 80 90]\n",
      "Fahrenheit: [ 32.  50.  68.  86. 104. 122. 140. 158. 176. 194.]\n"
     ]
    }
   ],
   "source": [
    "print(\"\\nCelsius:\", celsius)\n",
    "print(\"Fahrenheit:\", fahrenheit)"
   ]
  }
 ],
 "metadata": {
  "kernelspec": {
   "display_name": "gpu_env",
   "language": "python",
   "name": "python3"
  },
  "language_info": {
   "codemirror_mode": {
    "name": "ipython",
    "version": 3
   },
   "file_extension": ".py",
   "mimetype": "text/x-python",
   "name": "python",
   "nbconvert_exporter": "python",
   "pygments_lexer": "ipython3",
   "version": "3.10.18"
  }
 },
 "nbformat": 4,
 "nbformat_minor": 5
}
