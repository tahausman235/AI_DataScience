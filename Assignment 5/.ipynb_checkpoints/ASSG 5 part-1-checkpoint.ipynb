{
 "cells": [
  {
   "cell_type": "markdown",
   "id": "16f86c2e-cea9-4d19-a787-aba0808b50ff",
   "metadata": {
    "panel-layout": {
     "height": 103,
     "visible": true,
     "width": 100
    }
   },
   "source": [
    "# ENCAPSULATION \n",
    "# TASK 1:"
   ]
  },
  {
   "cell_type": "code",
   "execution_count": 1,
   "id": "9df70c56-c86a-4bc3-886d-ab20a37bdbc8",
   "metadata": {},
   "outputs": [],
   "source": [
    "class BankAccount:\n",
    "    def __init__(self, acc_no, bal):\n",
    "        self.__acc_no = acc_no\n",
    "        self.__balance = bal\n",
    "    \n",
    "    def deposit(self, amount):\n",
    "        self.__balance += amount\n",
    "        print(f\"Rs. {amount} is added !\")\n",
    "        print(f\"Total Balance = {self.__balance}\")\n",
    "\n",
    "    def withdraw(self, amount):\n",
    "        if self.__balance <= 0:\n",
    "            print(\"NO MONEY\")\n",
    "        else:\n",
    "            self.__balance -= amount\n",
    "            print(f\"Rs. {amount} is withdraw !\")\n",
    "            print(f\"Total Balance = {self.__balance}\")\n",
    "\n",
    "    def get_balance(self):\n",
    "        return self.__balance"
   ]
  },
  {
   "cell_type": "code",
   "execution_count": 2,
   "id": "50418d69-c6c6-4972-bf17-a9fcb3aaced4",
   "metadata": {},
   "outputs": [],
   "source": [
    "bank = BankAccount(123, 0)"
   ]
  },
  {
   "cell_type": "code",
   "execution_count": 3,
   "id": "5bb61f1d-39b5-4b59-9632-affbdd1e5d3e",
   "metadata": {
    "panel-layout": {
     "height": 0,
     "visible": true,
     "width": 100
    }
   },
   "outputs": [
    {
     "name": "stdout",
     "output_type": "stream",
     "text": [
      "NO MONEY\n"
     ]
    }
   ],
   "source": [
    "bank.withdraw(100)"
   ]
  },
  {
   "cell_type": "code",
   "execution_count": 4,
   "id": "624d9a61-e5b4-4eca-b263-449a5cc38868",
   "metadata": {
    "panel-layout": {
     "height": 0,
     "visible": true,
     "width": 100
    }
   },
   "outputs": [
    {
     "name": "stdout",
     "output_type": "stream",
     "text": [
      "Rs. 20000 is added !\n",
      "Total Balance = 20000\n"
     ]
    }
   ],
   "source": [
    "bank.deposit(20000)"
   ]
  },
  {
   "cell_type": "code",
   "execution_count": 5,
   "id": "6b09ba08-bf6d-4f7b-8699-216bc026a77f",
   "metadata": {
    "panel-layout": {
     "height": 0,
     "visible": true,
     "width": 100
    }
   },
   "outputs": [
    {
     "name": "stdout",
     "output_type": "stream",
     "text": [
      "Rs. 5000 is withdraw !\n",
      "Total Balance = 15000\n"
     ]
    }
   ],
   "source": [
    "bank.withdraw(5000)"
   ]
  },
  {
   "cell_type": "code",
   "execution_count": 6,
   "id": "cbed4844-eb61-43d7-86cb-f178b982cefc",
   "metadata": {
    "panel-layout": {
     "height": 27.137500762939453,
     "visible": true,
     "width": 100
    }
   },
   "outputs": [
    {
     "data": {
      "text/plain": [
       "15000"
      ]
     },
     "execution_count": 6,
     "metadata": {},
     "output_type": "execute_result"
    }
   ],
   "source": [
    "bank.get_balance()"
   ]
  },
  {
   "cell_type": "markdown",
   "id": "6fc6d859-6eed-4471-9307-9ac41f495b59",
   "metadata": {
    "panel-layout": {
     "height": 60.57500457763672,
     "visible": true,
     "width": 100
    }
   },
   "source": [
    "# TASK 2"
   ]
  },
  {
   "cell_type": "code",
   "execution_count": 7,
   "id": "89a3fab1-7c08-4325-bdc1-6096336b0e38",
   "metadata": {},
   "outputs": [],
   "source": [
    "class Student:\n",
    "    def __init__(self, name, roll_no, marks):\n",
    "        self.__name = name\n",
    "        self.__roll_no = roll_no\n",
    "        self.__marks = marks\n",
    "\n",
    "    def setter(self):\n",
    "        if 100 > self.__marks > 0:\n",
    "            print(f\"This {self.__marks} marks is Acceptable !!\")\n",
    "        else:\n",
    "            print(\"Not Accetable !\")\n",
    "\n",
    "    def getter(self):\n",
    "        print(f\"Name = {self.__name} \\nRoll Number = {self.__roll_no} \\nMarks = {self.__marks}\")"
   ]
  },
  {
   "cell_type": "code",
   "execution_count": 8,
   "id": "464f32ba-c661-40c5-9dd0-ed0352a32f52",
   "metadata": {},
   "outputs": [],
   "source": [
    "s1 = Student(\"Ahsan\", 123, 56)"
   ]
  },
  {
   "cell_type": "code",
   "execution_count": 9,
   "id": "d80ea741-14a8-42c4-be7c-bf83a429cbad",
   "metadata": {
    "panel-layout": {
     "height": 0,
     "visible": true,
     "width": 100
    }
   },
   "outputs": [
    {
     "name": "stdout",
     "output_type": "stream",
     "text": [
      "This 56 marks is Acceptable !!\n"
     ]
    }
   ],
   "source": [
    "s1.setter()"
   ]
  },
  {
   "cell_type": "code",
   "execution_count": 10,
   "id": "b8adb8ca-be65-4c2f-9314-f540024171bb",
   "metadata": {
    "panel-layout": {
     "height": 0,
     "visible": true,
     "width": 100
    }
   },
   "outputs": [
    {
     "name": "stdout",
     "output_type": "stream",
     "text": [
      "Name = Ahsan \n",
      "Roll Number = 123 \n",
      "Marks = 56\n"
     ]
    }
   ],
   "source": [
    "s1.getter()"
   ]
  },
  {
   "cell_type": "markdown",
   "id": "9d75d044-43b8-4145-a788-141a53a0788e",
   "metadata": {
    "panel-layout": {
     "height": 60.57500457763672,
     "visible": true,
     "width": 100
    }
   },
   "source": [
    "# TASK 3"
   ]
  },
  {
   "cell_type": "code",
   "execution_count": 17,
   "id": "de8662ca-8960-431c-82af-8780da9d181b",
   "metadata": {},
   "outputs": [],
   "source": [
    "class PasswordManager:\n",
    "    def __init__(self, username, passw):\n",
    "        self.user = username\n",
    "        self.__passw = passw\n",
    "\n",
    "    def set_passw(self, old, new):\n",
    "        if self.__passw == old:\n",
    "            self.__passw = new\n",
    "            print(\"Updated Password!\")\n",
    "        else:\n",
    "            print(\"Not Match\")\n",
    "            \n",
    "    def __check_username(self, name):\n",
    "        if self.user == name:\n",
    "            print(\"Match\")\n",
    "        else:\n",
    "            print(\"Not Match\")\n",
    "\n",
    "    def check_user(self, name):\n",
    "        self.__check_username(name)\n",
    "\n",
    "    def __check_passw(self, passw):\n",
    "        if self.__passw == passw:\n",
    "            print(\"True\")\n",
    "        else:\n",
    "            print(\"False\")\n",
    "\n",
    "    def check_passw(self, passw):\n",
    "        self.__check_passw(passw)"
   ]
  },
  {
   "cell_type": "code",
   "execution_count": 18,
   "id": "4b9c444a-833b-4321-bc74-1500f80f18f8",
   "metadata": {},
   "outputs": [],
   "source": [
    "p1 = PasswordManager(\"Taha\", \"568\")"
   ]
  },
  {
   "cell_type": "code",
   "execution_count": 19,
   "id": "3a9caddc-f033-4251-addd-1ab4761add32",
   "metadata": {
    "panel-layout": {
     "height": 0,
     "visible": true,
     "width": 100
    }
   },
   "outputs": [
    {
     "name": "stdout",
     "output_type": "stream",
     "text": [
      "Updated Password!\n"
     ]
    }
   ],
   "source": [
    "p1.set_passw(\"568\", \"123\")"
   ]
  },
  {
   "cell_type": "code",
   "execution_count": 20,
   "id": "2d79f474-b95c-430d-8de8-6b2d95d226db",
   "metadata": {
    "panel-layout": {
     "height": 0,
     "visible": true,
     "width": 100
    }
   },
   "outputs": [
    {
     "name": "stdout",
     "output_type": "stream",
     "text": [
      "Match\n"
     ]
    }
   ],
   "source": [
    "p1.check_user(\"Taha\")"
   ]
  },
  {
   "cell_type": "code",
   "execution_count": 21,
   "id": "06a09770-13c8-4ea7-82b9-971132e2fb44",
   "metadata": {
    "panel-layout": {
     "height": 0,
     "visible": true,
     "width": 100
    }
   },
   "outputs": [
    {
     "name": "stdout",
     "output_type": "stream",
     "text": [
      "True\n"
     ]
    }
   ],
   "source": [
    "p1.check_passw(\"123\")"
   ]
  },
  {
   "cell_type": "markdown",
   "id": "76a5ec47-f15a-4207-9240-a142103a3722",
   "metadata": {
    "panel-layout": {
     "height": 60.57500457763672,
     "visible": true,
     "width": 100
    }
   },
   "source": [
    "# TASK 4"
   ]
  },
  {
   "cell_type": "code",
   "execution_count": 9,
   "id": "d11125ee-5620-4712-a460-3250b85df924",
   "metadata": {},
   "outputs": [
    {
     "name": "stdout",
     "output_type": "stream",
     "text": [
      "Name: Ahsan\n",
      "Salary was:  80000\n",
      "The Employ name is Ahsan which Salary increase about 90000\n"
     ]
    }
   ],
   "source": [
    "class Employment:\n",
    "    def __init__(self, name, salary):\n",
    "        self.__name = name\n",
    "        self.__salary = salary\n",
    "\n",
    "    def getter(self):\n",
    "        print(f\"Name: {self.__name}\")\n",
    "\n",
    "    def setter(self, salary):\n",
    "        if self.__salary > 0:\n",
    "            print(\"Salary was: \", self.__salary)\n",
    "            self.__salary = salary\n",
    "            \n",
    "        else:\n",
    "            print(\"Not Salary\")\n",
    "\n",
    "    def show_details(self):\n",
    "        print(f\"The Employ name is {self.__name} which Salary increase about {self.__salary}\")\n",
    "\n",
    "emp = Employment(\"Ahsan\", 80000)\n",
    "emp.getter()\n",
    "emp.setter(90000)\n",
    "emp.show_details()"
   ]
  },
  {
   "cell_type": "markdown",
   "id": "c7be0af9-9146-4f36-b68a-05057c1e4ea0",
   "metadata": {},
   "source": [
    "# TASK 5"
   ]
  },
  {
   "cell_type": "code",
   "execution_count": 6,
   "id": "f9910d85-a543-4901-84af-fbec180ad692",
   "metadata": {},
   "outputs": [],
   "source": [
    "class ShoppingCart:\n",
    "    def __init__(self):\n",
    "        self.__items = []  # private list\n",
    "\n",
    "    def add_item(self, item):\n",
    "        if item not in self.__items:  # prevent duplicates\n",
    "            self.__items.append(item)\n",
    "        else:\n",
    "            print(f\"{item} already in cart\")\n",
    "\n",
    "    def remove_item(self, item):\n",
    "        if item in self.__items:\n",
    "            self.__items.remove(item)\n",
    "        else:\n",
    "            print(f\"{item} not found in cart\")\n",
    "\n",
    "    def view_cart(self):\n",
    "        return self.__items\n"
   ]
  },
  {
   "cell_type": "code",
   "execution_count": 7,
   "id": "b797b61f-d7af-4f8d-b3c4-560ce8ee7b68",
   "metadata": {},
   "outputs": [],
   "source": [
    "sh1 = ShoppingCart()"
   ]
  },
  {
   "cell_type": "code",
   "execution_count": 8,
   "id": "5f0cc56d-0e22-43f1-87f1-5b6600db49ca",
   "metadata": {},
   "outputs": [
    {
     "name": "stdout",
     "output_type": "stream",
     "text": [
      "Kiwi already in cart\n"
     ]
    }
   ],
   "source": [
    "sh1.add_item(\"Kiwi\")\n",
    "sh1.add_item(\"Apple\")\n",
    "sh1.add_item(\"Kiwi\")"
   ]
  },
  {
   "cell_type": "code",
   "execution_count": 9,
   "id": "dc49f657-f4e4-40e4-8518-da7fb6addeee",
   "metadata": {},
   "outputs": [],
   "source": [
    "sh1.remove_item(\"Apple\")"
   ]
  },
  {
   "cell_type": "code",
   "execution_count": 10,
   "id": "23ac5592-21b0-4ec3-b682-45737772eb00",
   "metadata": {},
   "outputs": [
    {
     "name": "stdout",
     "output_type": "stream",
     "text": [
      "['Kiwi']\n"
     ]
    }
   ],
   "source": [
    "print(sh1.view_cart())"
   ]
  },
  {
   "cell_type": "code",
   "execution_count": null,
   "id": "72dab55c-c456-4625-b75b-be81739cc1e2",
   "metadata": {},
   "outputs": [],
   "source": []
  }
 ],
 "metadata": {
  "kernelspec": {
   "display_name": "Python 3 (ipykernel)",
   "language": "python",
   "name": "python3"
  },
  "language_info": {
   "codemirror_mode": {
    "name": "ipython",
    "version": 3
   },
   "file_extension": ".py",
   "mimetype": "text/x-python",
   "name": "python",
   "nbconvert_exporter": "python",
   "pygments_lexer": "ipython3",
   "version": "3.13.5"
  },
  "panel-cell-order": [
   "16f86c2e-cea9-4d19-a787-aba0808b50ff",
   "5bb61f1d-39b5-4b59-9632-affbdd1e5d3e",
   "624d9a61-e5b4-4eca-b263-449a5cc38868",
   "6b09ba08-bf6d-4f7b-8699-216bc026a77f",
   "cbed4844-eb61-43d7-86cb-f178b982cefc",
   "6fc6d859-6eed-4471-9307-9ac41f495b59",
   "d80ea741-14a8-42c4-be7c-bf83a429cbad",
   "b8adb8ca-be65-4c2f-9314-f540024171bb",
   "9d75d044-43b8-4145-a788-141a53a0788e",
   "3a9caddc-f033-4251-addd-1ab4761add32",
   "2d79f474-b95c-430d-8de8-6b2d95d226db",
   "06a09770-13c8-4ea7-82b9-971132e2fb44",
   "76a5ec47-f15a-4207-9240-a142103a3722"
  ]
 },
 "nbformat": 4,
 "nbformat_minor": 5
}
