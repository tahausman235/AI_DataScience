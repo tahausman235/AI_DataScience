{
 "cells": [
  {
   "cell_type": "markdown",
   "id": "c3b18403-675c-4e66-8333-217a39c8b0eb",
   "metadata": {},
   "source": [
    "# Inheritance\n",
    "# Task 1"
   ]
  },
  {
   "cell_type": "code",
   "execution_count": 11,
   "id": "34caa62b-7003-46b7-8bb7-7dc1e6076fa7",
   "metadata": {},
   "outputs": [],
   "source": [
    "class Animal:\n",
    "    def make_sound(self):\n",
    "        print(\"Animal makes sound !!\")\n",
    "\n",
    "class Dog(Animal):\n",
    "    def make_sound(self):\n",
    "        print(\"Dog make sound BARK !!\")"
   ]
  },
  {
   "cell_type": "code",
   "execution_count": 12,
   "id": "233c97e2-21ca-44b7-b907-a62d1952a01a",
   "metadata": {},
   "outputs": [],
   "source": [
    "c1 = Dog()"
   ]
  },
  {
   "cell_type": "code",
   "execution_count": 13,
   "id": "68d0113c-b4e7-4f9e-9a39-3d21954e03e5",
   "metadata": {},
   "outputs": [
    {
     "name": "stdout",
     "output_type": "stream",
     "text": [
      "Dog make sound BARK !!\n"
     ]
    }
   ],
   "source": [
    "c1.make_sound()"
   ]
  },
  {
   "cell_type": "markdown",
   "id": "3da6e2f5-cf0b-4c16-abe3-d49433bf382a",
   "metadata": {},
   "source": [
    "# Task 2"
   ]
  },
  {
   "cell_type": "code",
   "execution_count": 1,
   "id": "8c22d413-e014-4749-b059-093f7418c7f7",
   "metadata": {},
   "outputs": [],
   "source": [
    "class Vehicle:\n",
    "    def __init__(self, brand, model):\n",
    "        self.brand = brand\n",
    "        self.model = model\n",
    "\n",
    "class Car(Vehicle):\n",
    "    def __init__(self, brand, model, seat):\n",
    "        super().__init__(brand, model)\n",
    "        self.seat = seat\n",
    "\n",
    "    def display(self):\n",
    "        print(f\"BRAND: {self.brand}\\nMODEl: {self.model}\\nSEAT: {self.seat}\")"
   ]
  },
  {
   "cell_type": "code",
   "execution_count": 2,
   "id": "33cffedd-4eb8-4aaa-bf80-7d4025280984",
   "metadata": {},
   "outputs": [],
   "source": [
    "c = Car(\"Toyota\", 2005, 5)"
   ]
  },
  {
   "cell_type": "code",
   "execution_count": 3,
   "id": "d5185d06-0e71-4132-93f6-f003dc4fb5a8",
   "metadata": {},
   "outputs": [
    {
     "name": "stdout",
     "output_type": "stream",
     "text": [
      "BRAND: Toyota\n",
      "MODEl: 2005\n",
      "SEAT: 5\n"
     ]
    }
   ],
   "source": [
    "c.display()"
   ]
  },
  {
   "cell_type": "markdown",
   "id": "194167e4-5495-481b-b9f9-23dc089a0d58",
   "metadata": {},
   "source": [
    "# Task 3"
   ]
  },
  {
   "cell_type": "code",
   "execution_count": 5,
   "id": "f9ec3ca4-5fce-4fdd-ac27-8e1de9327dba",
   "metadata": {},
   "outputs": [],
   "source": [
    "class Grandparent:\n",
    "    def family_name(self):\n",
    "        print(\"Grandparent\")\n",
    "\n",
    "class Parent(Grandparent):\n",
    "    def occupation(self):\n",
    "        print(\"Run House\")\n",
    "\n",
    "class Child(Parent):\n",
    "    def hobby(self):\n",
    "        print(\"Hobby is Cricket\")"
   ]
  },
  {
   "cell_type": "code",
   "execution_count": 6,
   "id": "e0c686d5-93bf-48d3-9d22-d82e9823b00c",
   "metadata": {},
   "outputs": [],
   "source": [
    "child = Child()"
   ]
  },
  {
   "cell_type": "code",
   "execution_count": 7,
   "id": "7ccc769e-91da-4438-bfb5-6ab2250b9b4a",
   "metadata": {},
   "outputs": [
    {
     "name": "stdout",
     "output_type": "stream",
     "text": [
      "Grandparent\n"
     ]
    }
   ],
   "source": [
    "child.family_name()"
   ]
  },
  {
   "cell_type": "code",
   "execution_count": 9,
   "id": "70bd3023-422e-4a69-a598-9662727d6325",
   "metadata": {},
   "outputs": [
    {
     "name": "stdout",
     "output_type": "stream",
     "text": [
      "Run House\n"
     ]
    }
   ],
   "source": [
    "child.occupation()"
   ]
  },
  {
   "cell_type": "code",
   "execution_count": 10,
   "id": "3c65bd74-d307-4656-b440-b2fb537d0a2a",
   "metadata": {},
   "outputs": [
    {
     "name": "stdout",
     "output_type": "stream",
     "text": [
      "Hobby is Cricket\n"
     ]
    }
   ],
   "source": [
    "child.hobby()"
   ]
  },
  {
   "cell_type": "markdown",
   "id": "710a9628-81d6-456e-b50c-f41a91363d4c",
   "metadata": {},
   "source": [
    "# Task 4"
   ]
  },
  {
   "cell_type": "code",
   "execution_count": 30,
   "id": "b1a87d3d-756a-4031-8c41-095431c3e524",
   "metadata": {},
   "outputs": [],
   "source": [
    "class Father:\n",
    "    def skills(self):\n",
    "        return \"Scientist\"\n",
    "\n",
    "class Mother:\n",
    "    def skills(self):\n",
    "        return \"Freelancer\"\n",
    "\n",
    "class Child(Father, Mother):\n",
    "    def skills(self):\n",
    "        return f\"{Father.skills(self)} and {Mother.skills(self)}\""
   ]
  },
  {
   "cell_type": "code",
   "execution_count": 31,
   "id": "ce716adb-20d9-48ae-905c-8c5fee9a0b22",
   "metadata": {},
   "outputs": [],
   "source": [
    "cc = Child()"
   ]
  },
  {
   "cell_type": "code",
   "execution_count": 32,
   "id": "1a9ca7ba-3967-493b-98ea-c5911838eafb",
   "metadata": {},
   "outputs": [
    {
     "data": {
      "text/plain": [
       "'Scientist and Freelancer'"
      ]
     },
     "execution_count": 32,
     "metadata": {},
     "output_type": "execute_result"
    }
   ],
   "source": [
    "cc.skills()"
   ]
  },
  {
   "cell_type": "code",
   "execution_count": null,
   "id": "0cf06c61-fa00-42ae-9d20-ad07ff12a6fc",
   "metadata": {},
   "outputs": [],
   "source": []
  }
 ],
 "metadata": {
  "kernelspec": {
   "display_name": "Python 3 (ipykernel)",
   "language": "python",
   "name": "python3"
  },
  "language_info": {
   "codemirror_mode": {
    "name": "ipython",
    "version": 3
   },
   "file_extension": ".py",
   "mimetype": "text/x-python",
   "name": "python",
   "nbconvert_exporter": "python",
   "pygments_lexer": "ipython3",
   "version": "3.13.5"
  }
 },
 "nbformat": 4,
 "nbformat_minor": 5
}
